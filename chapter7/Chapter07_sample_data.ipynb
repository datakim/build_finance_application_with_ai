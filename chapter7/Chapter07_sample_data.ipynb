version https://git-lfs.github.com/spec/v1
oid sha256:37254f5e189e42c9434bed7b96bd0ce3191c362f4f696ab8932f822d26e09f28
size 7607
